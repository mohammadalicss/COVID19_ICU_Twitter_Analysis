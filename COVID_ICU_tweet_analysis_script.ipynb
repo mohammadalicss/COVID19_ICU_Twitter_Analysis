{
  "nbformat": 4,
  "nbformat_minor": 0,
  "metadata": {
    "colab": {
      "provenance": [],
      "toc_visible": true
    },
    "kernelspec": {
      "name": "python3",
      "display_name": "Python 3"
    },
    "language_info": {
      "name": "python"
    }
  },
  "cells": [
    {
      "cell_type": "markdown",
      "source": [
        "# **COVID19 ICU Twitter Analysis**\n",
        "\n"
      ],
      "metadata": {
        "id": "49UVaceygvzL"
      }
    },
    {
      "cell_type": "markdown",
      "source": [
        "## Mount drive, load data"
      ],
      "metadata": {
        "id": "obU7ayyYsb0q"
      }
    },
    {
      "cell_type": "code",
      "source": [
        "# Mount the drive (for Google Colab)\n",
        "from google.colab import drive\n",
        "drive.mount('/content/drive')"
      ],
      "metadata": {
        "colab": {
          "base_uri": "https://localhost:8080/"
        },
        "id": "q2bhz6Y5ASHK",
        "outputId": "89232d96-bbdc-4c54-bb0b-9b9acf2842b7"
      },
      "execution_count": 2,
      "outputs": [
        {
          "output_type": "stream",
          "name": "stdout",
          "text": [
            "Drive already mounted at /content/drive; to attempt to forcibly remount, call drive.mount(\"/content/drive\", force_remount=True).\n"
          ]
        }
      ]
    },
    {
      "cell_type": "code",
      "source": [
        "# Load data (data is in Excel format)\n",
        "import pandas as pd\n",
        "df = pd.read_excel('/content/drive/MyDrive/Research/icu_covid_jan_jun2020_120555/combined_syso_icu_mentions.xlsx')\n",
        "# df = pd.read_excel('/content/combined_syso_icu_mentions.xlsx')"
      ],
      "metadata": {
        "id": "aDSTOKJFiiVh"
      },
      "execution_count": 8,
      "outputs": []
    },
    {
      "cell_type": "code",
      "source": [
        "print(df.head())"
      ],
      "metadata": {
        "colab": {
          "base_uri": "https://localhost:8080/"
        },
        "id": "2L3Z8vqojJKh",
        "outputId": "e2199e0f-d2da-4b52-9011-bd6d346d721a"
      },
      "execution_count": 9,
      "outputs": [
        {
          "output_type": "stream",
          "name": "stdout",
          "text": [
            "   file_no  No   Source                    Host  \\\n",
            "0        1   1  TWITTER  http://www.twitter.com   \n",
            "1        1   2  TWITTER  http://www.twitter.com   \n",
            "2        1   3  TWITTER  http://www.twitter.com   \n",
            "3        1   4  TWITTER  http://www.twitter.com   \n",
            "4        1   5  TWITTER  http://www.twitter.com   \n",
            "\n",
            "                                                Link     Date_ET   Time_ET  \\\n",
            "0  http://twitter.com/TapioKantola/statuses/12430...  2020-03-25  23:42:07   \n",
            "1  http://twitter.com/TapioKantola/statuses/12430...  2020-03-25  23:42:07   \n",
            "2  http://twitter.com/JFRANCISCOPED/statuses/1243...  2020-03-25  23:37:09   \n",
            "3  http://twitter.com/musicloverhoney/statuses/12...  2020-03-25  23:36:14   \n",
            "4  http://twitter.com/TapioKantola/statuses/12430...  2020-03-25  23:34:39   \n",
            "\n",
            "              LocalTime  Category        Author_ID  ...  \\\n",
            "0  25 Mar 2020 23:42:07       NaN     TapioKantola  ...   \n",
            "1  25 Mar 2020 23:38:59       NaN     TapioKantola  ...   \n",
            "2  25 Mar 2020 23:37:09       NaN    JFRANCISCOPED  ...   \n",
            "3  25 Mar 2020 23:36:14       NaN  musicloverhoney  ...   \n",
            "4  25 Mar 2020 23:34:39       NaN     TapioKantola  ...   \n",
            "\n",
            "                                            Entities Alexa Rank  Alexa Reach  \\\n",
            "0            I Don't Need No Doctor;Inner City Unit;        NaN          NaN   \n",
            "1            I Don't Need No Doctor;Inner City Unit;        NaN          NaN   \n",
            "2  Mexico;Coahuila;Coronavirus;Pandemic;Intensive...        NaN          NaN   \n",
            "3  Severe acute respiratory syndrome;Oxygen;Coron...        NaN          NaN   \n",
            "4   Coronavirus;Jeff Bezos;Elon Musk;Car;Bill Gates;        NaN          NaN   \n",
            "\n",
            "   Title                                            Snippet  \\\n",
            "0    NaN  #MotorHome/#RecreationalVehicle s parked next ...   \n",
            "1    NaN  #MotorHome/#RecreationalVehicle s parked next ...   \n",
            "2    NaN  RT @Univ_inenglish: #Mexico expects over 10,50...   \n",
            "3    NaN  QT @GellandMD: @NYGovCuomo Doctors have create...   \n",
            "4    NaN  Recreational Vehicles parked next 2 each other...   \n",
            "\n",
            "                                            Contents  \\\n",
            "0  #MotorHome/#RecreationalVehicle s parked next ...   \n",
            "1  #MotorHome/#RecreationalVehicle s parked next ...   \n",
            "2  RT @Univ_inenglish: #Mexico expects over 10,50...   \n",
            "3  QT @GellandMD: @NYGovCuomo Doctors have create...   \n",
            "4  Recreational Vehicles parked next 2 each other...   \n",
            "\n",
            "                                             Summary  \\\n",
            "0  #MotorHome/#RecreationalVehicle s parked next ...   \n",
            "1  #MotorHome/#RecreationalVehicle s parked next ...   \n",
            "2                                                NaN   \n",
            "3  QT @GellandMD: @NYGovCuomo Doctors have create...   \n",
            "4  Recreational Vehicles parked next 2 each other...   \n",
            "\n",
            "                                                 Bio            Unique ID  \\\n",
            "0  Interested in entrepreneurship, health, sports...  1243020382115946496   \n",
            "1  Interested in entrepreneurship, health, sports...  1243019589589577728   \n",
            "2  IFB 🇲🇽 Me agrada estar informado de lo importa...  1243019130556514304   \n",
            "3  Darkness cannot drive out darkness; only light...  1243018899093966848   \n",
            "4  Interested in entrepreneurship, health, sports...  1243018502916780032   \n",
            "\n",
            "           Post Source  \n",
            "0      Twitter Web App  \n",
            "1      Twitter Web App  \n",
            "2  Twitter for Android  \n",
            "3  Twitter for Android  \n",
            "4      Twitter Web App  \n",
            "\n",
            "[5 rows x 35 columns]\n"
          ]
        }
      ]
    },
    {
      "cell_type": "code",
      "source": [
        "# df.columns.tolist()"
      ],
      "metadata": {
        "id": "-ualedCBoOzJ"
      },
      "execution_count": 10,
      "outputs": []
    },
    {
      "cell_type": "markdown",
      "source": [
        "## Some descrptive analysis"
      ],
      "metadata": {
        "id": "D6G0jHTlGFwk"
      }
    },
    {
      "cell_type": "code",
      "source": [
        "# Number of rows\n",
        "num_rows = df.shape[0]\n",
        "print(num_rows)"
      ],
      "metadata": {
        "colab": {
          "base_uri": "https://localhost:8080/"
        },
        "id": "64NAIVa0m-Kp",
        "outputId": "85455b60-c1d4-4bc9-a8d9-e287c9641518"
      },
      "execution_count": 11,
      "outputs": [
        {
          "output_type": "stream",
          "name": "stdout",
          "text": [
            "120555\n"
          ]
        }
      ]
    },
    {
      "cell_type": "code",
      "source": [
        "# Number of unique_links under \"Link\" column\n",
        "len(df['Link'].unique())"
      ],
      "metadata": {
        "colab": {
          "base_uri": "https://localhost:8080/"
        },
        "id": "QFTykyh3m-wp",
        "outputId": "12d4fdee-a4a1-418c-b5df-fb9c6a30a79a"
      },
      "execution_count": 12,
      "outputs": [
        {
          "output_type": "execute_result",
          "data": {
            "text/plain": [
              "120555"
            ]
          },
          "metadata": {},
          "execution_count": 12
        }
      ]
    },
    {
      "cell_type": "code",
      "source": [
        "# Number of unique_links under \"Unique ID\" column\n",
        "len(df['Unique ID'].unique())"
      ],
      "metadata": {
        "colab": {
          "base_uri": "https://localhost:8080/"
        },
        "id": "Y09dgLS5nrUx",
        "outputId": "7e0bc761-aba6-4450-a577-40ed0546a0cb"
      },
      "execution_count": 13,
      "outputs": [
        {
          "output_type": "execute_result",
          "data": {
            "text/plain": [
              "120555"
            ]
          },
          "metadata": {},
          "execution_count": 13
        }
      ]
    },
    {
      "cell_type": "code",
      "source": [
        "# Number of unique_links under \"Author ID\" column\n",
        "len(df['Author_ID'].unique())"
      ],
      "metadata": {
        "colab": {
          "base_uri": "https://localhost:8080/"
        },
        "id": "SJWkSbzInu5i",
        "outputId": "3ceb4519-456b-4152-8c04-ec895abbc0b2"
      },
      "execution_count": 14,
      "outputs": [
        {
          "output_type": "execute_result",
          "data": {
            "text/plain": [
              "77966"
            ]
          },
          "metadata": {},
          "execution_count": 14
        }
      ]
    },
    {
      "cell_type": "markdown",
      "source": [
        "## Language"
      ],
      "metadata": {
        "id": "bbfSlkLXF5jE"
      }
    },
    {
      "cell_type": "code",
      "source": [
        "# Number of unique languages\n",
        "len(df['Language'].unique())"
      ],
      "metadata": {
        "colab": {
          "base_uri": "https://localhost:8080/"
        },
        "id": "WsfDaMXIn5Qx",
        "outputId": "45e29015-e5d9-416d-c639-b22182206e43"
      },
      "execution_count": 15,
      "outputs": [
        {
          "output_type": "execute_result",
          "data": {
            "text/plain": [
              "62"
            ]
          },
          "metadata": {},
          "execution_count": 15
        }
      ]
    },
    {
      "cell_type": "code",
      "source": [
        "# Count the number of rows for each country\n",
        "language_counts = df['Language'].value_counts()\n",
        "print(language_counts)"
      ],
      "metadata": {
        "colab": {
          "base_uri": "https://localhost:8080/"
        },
        "id": "ezS1LddXDt4J",
        "outputId": "ab087432-a561-42f2-e91f-33fc3adcff27"
      },
      "execution_count": 16,
      "outputs": [
        {
          "output_type": "stream",
          "name": "stdout",
          "text": [
            "Language\n",
            "English      95198\n",
            "Thai          8394\n",
            "Japanese      5002\n",
            "Hindi         3909\n",
            "Spanish       1340\n",
            "             ...  \n",
            "Dhivehi          1\n",
            "Icelandic        1\n",
            "Sinhalese        1\n",
            "Burmese          1\n",
            "Sindhi           1\n",
            "Name: count, Length: 62, dtype: int64\n"
          ]
        }
      ]
    },
    {
      "cell_type": "code",
      "source": [
        "# % of rows for each language caterory\n",
        "\n",
        "# Number of rows for each language caterory\n",
        "language_counts = df['Language'].value_counts()\n",
        "\n",
        "# Total number of rows\n",
        "total_rows = len(df)\n",
        "\n",
        "# % of each language category\n",
        "language_percentages = (language_counts / total_rows) * 100\n",
        "\n",
        "print(language_percentages)"
      ],
      "metadata": {
        "colab": {
          "base_uri": "https://localhost:8080/"
        },
        "id": "vj_1yHqUD6KI",
        "outputId": "70feabbd-935e-45ae-ef4a-52169c621cd9"
      },
      "execution_count": 17,
      "outputs": [
        {
          "output_type": "stream",
          "name": "stdout",
          "text": [
            "Language\n",
            "English      78.966447\n",
            "Thai          6.962797\n",
            "Japanese      4.149144\n",
            "Hindi         3.242503\n",
            "Spanish       1.111526\n",
            "               ...    \n",
            "Dhivehi       0.000829\n",
            "Icelandic     0.000829\n",
            "Sinhalese     0.000829\n",
            "Burmese       0.000829\n",
            "Sindhi        0.000829\n",
            "Name: count, Length: 62, dtype: float64\n"
          ]
        }
      ]
    },
    {
      "cell_type": "markdown",
      "source": [
        "## Country"
      ],
      "metadata": {
        "id": "Gs-Tu3y-FoHa"
      }
    },
    {
      "cell_type": "code",
      "source": [
        "len(df['Country'].unique())"
      ],
      "metadata": {
        "colab": {
          "base_uri": "https://localhost:8080/"
        },
        "id": "OD3i9ZTEoLsC",
        "outputId": "6f84527e-f8f5-48dc-93be-f8a0f66f3de7"
      },
      "execution_count": 18,
      "outputs": [
        {
          "output_type": "execute_result",
          "data": {
            "text/plain": [
              "192"
            ]
          },
          "metadata": {},
          "execution_count": 18
        }
      ]
    },
    {
      "cell_type": "code",
      "source": [
        "# Number of rows for each country\n",
        "country_counts = df['Country'].value_counts()\n",
        "print(country_counts)"
      ],
      "metadata": {
        "colab": {
          "base_uri": "https://localhost:8080/"
        },
        "id": "vSRNra_wqXMs",
        "outputId": "62b5b471-9de6-4a51-88bc-4bd3bc8dc005"
      },
      "execution_count": 19,
      "outputs": [
        {
          "output_type": "stream",
          "name": "stdout",
          "text": [
            "Country\n",
            "USA                          23618\n",
            "UK                           14920\n",
            "India                         5567\n",
            "Canada                        3362\n",
            "Australia                     2217\n",
            "                             ...  \n",
            "Andorra                          1\n",
            "Saint Pierre and Miquelon        1\n",
            "Bosnia and Herzegovina           1\n",
            "Espanya                          1\n",
            "Republic of the Congo            1\n",
            "Name: count, Length: 191, dtype: int64\n"
          ]
        }
      ]
    },
    {
      "cell_type": "markdown",
      "source": [
        "## Gender"
      ],
      "metadata": {
        "id": "jwpfoffmFip9"
      }
    },
    {
      "cell_type": "code",
      "source": [
        "# Number of unique gender\n",
        "len(df['Gender'].unique())"
      ],
      "metadata": {
        "colab": {
          "base_uri": "https://localhost:8080/"
        },
        "id": "u7HEPwrdoat7",
        "outputId": "a4c0b5b7-5488-4264-bf7d-f957d1511df7"
      },
      "execution_count": 20,
      "outputs": [
        {
          "output_type": "execute_result",
          "data": {
            "text/plain": [
              "3"
            ]
          },
          "metadata": {},
          "execution_count": 20
        }
      ]
    },
    {
      "cell_type": "code",
      "source": [
        "# Number of rows for each gender\n",
        "gender_counts = df['Gender'].value_counts()\n",
        "print(gender_counts)"
      ],
      "metadata": {
        "colab": {
          "base_uri": "https://localhost:8080/"
        },
        "id": "X6Oa0l7JCFrp",
        "outputId": "4d463594-84ae-4c49-ee7f-396b4a5a6df4"
      },
      "execution_count": 21,
      "outputs": [
        {
          "output_type": "stream",
          "name": "stdout",
          "text": [
            "Gender\n",
            "MALE      39694\n",
            "FEMALE    31034\n",
            "Name: count, dtype: int64\n"
          ]
        }
      ]
    },
    {
      "cell_type": "code",
      "source": [
        "# % of rows for each gender\n",
        "\n",
        "# Number of rows for each gender\n",
        "gender_counts = df['Gender'].value_counts()\n",
        "\n",
        "# Total number of rows\n",
        "total_rows = len(df)\n",
        "\n",
        "# % of each gender category\n",
        "gender_percentages = (gender_counts / total_rows) * 100\n",
        "\n",
        "print(gender_percentages)"
      ],
      "metadata": {
        "colab": {
          "base_uri": "https://localhost:8080/"
        },
        "id": "-RDUv5kIDPl4",
        "outputId": "4d40156e-0203-4dcf-974a-668560c6c620"
      },
      "execution_count": 22,
      "outputs": [
        {
          "output_type": "stream",
          "name": "stdout",
          "text": [
            "Gender\n",
            "MALE      32.926050\n",
            "FEMALE    25.742607\n",
            "Name: count, dtype: float64\n"
          ]
        }
      ]
    },
    {
      "cell_type": "code",
      "source": [
        "df['Gender'].unique()"
      ],
      "metadata": {
        "colab": {
          "base_uri": "https://localhost:8080/"
        },
        "id": "BFwhcr_Ioklh",
        "outputId": "ea7c6c42-ed97-45ed-a2cb-690c9758246a"
      },
      "execution_count": 23,
      "outputs": [
        {
          "output_type": "execute_result",
          "data": {
            "text/plain": [
              "array(['MALE', nan, 'FEMALE'], dtype=object)"
            ]
          },
          "metadata": {},
          "execution_count": 23
        }
      ]
    },
    {
      "cell_type": "markdown",
      "source": [
        "## Tweet frequency over time"
      ],
      "metadata": {
        "id": "YO9g_cU2FY3o"
      }
    },
    {
      "cell_type": "code",
      "source": [
        "import matplotlib.pyplot as plt\n",
        "\n",
        "df['Date_ET)'] = pd.to_datetime(df['Date_ET'])\n",
        "tweet_counts_by_date = df.groupby('Date_ET')['Contents'].count()\n",
        "\n",
        "# Plot the time series graph\n",
        "plt.figure(figsize=(10, 6))\n",
        "plt.plot(tweet_counts_by_date.index, tweet_counts_by_date.values, marker='o', linestyle='-')\n",
        "plt.title('Tweet Frequency Over Time')\n",
        "plt.xlabel('Date (ET)')\n",
        "plt.ylabel('Number of Tweets')\n",
        "plt.grid(True)\n",
        "plt.show()\n"
      ],
      "metadata": {
        "colab": {
          "base_uri": "https://localhost:8080/",
          "height": 414
        },
        "id": "PMNAqNyYogzI",
        "outputId": "677d1fbb-b1d3-49cd-fc81-b497aea31e3a"
      },
      "execution_count": 24,
      "outputs": [
        {
          "output_type": "display_data",
          "data": {
            "text/plain": [
              "<Figure size 1000x600 with 1 Axes>"
            ],
            "image/png": "[encoded data removed]"
          },
          "metadata": {}
        }
      ]
    },
    {
      "cell_type": "code",
      "source": [
        "import matplotlib.pyplot as plt\n",
        "\n",
        "df['Date_ET'] = pd.to_datetime(df['Date_ET'])\n",
        "tweet_counts_by_month = df.resample('W', on='Date_ET')['Contents'].count()\n",
        "\n",
        "# Plot the time series graph\n",
        "plt.figure(figsize=(10, 6))\n",
        "plt.plot(tweet_counts_by_month.index, tweet_counts_by_month.values, marker='o', linestyle='-')\n",
        "plt.title('Tweet Frequency Over Time (Grouped by Month)')\n",
        "plt.xlabel('Times')\n",
        "plt.ylabel('Number of Tweets')\n",
        "plt.grid(True)\n",
        "plt.show()\n"
      ],
      "metadata": {
        "colab": {
          "base_uri": "https://localhost:8080/",
          "height": 412
        },
        "id": "iooZfEiRr6aB",
        "outputId": "6b1f0a3e-62fd-4f0d-fb96-5b4319ca496b"
      },
      "execution_count": 25,
      "outputs": [
        {
          "output_type": "display_data",
          "data": {
            "text/plain": [
              "<Figure size 1000x600 with 1 Axes>"
            ],
            "image/png": "[encoded data removed]"
          },
          "metadata": {}
        }
      ]
    },
    {
      "cell_type": "markdown",
      "source": [
        "## Sentiment analysis"
      ],
      "metadata": {
        "id": "lbIf_cOYopUV"
      }
    },
    {
      "cell_type": "code",
      "source": [
        "import nltk\n",
        "from nltk.sentiment.vader import SentimentIntensityAnalyzer\n",
        "\n",
        "# Download VADER lexicon\n",
        "nltk.download('vader_lexicon')\n",
        "\n",
        "# Initialize the SentimentIntensityAnalyzer\n",
        "sid = SentimentIntensityAnalyzer()\n",
        "\n",
        "# Analyze sentiment for each tweet & classify it into pos, neg, or neu\n",
        "sentiment_counts = {'positive': 0, 'negative': 0, 'neutral': 0}\n",
        "for index, row in df.iterrows():\n",
        "    content = row['Contents']\n",
        "    sentiment_score = sid.polarity_scores(content)\n",
        "    if sentiment_score['compound'] > 0.05:\n",
        "        sentiment_counts['positive'] += 1\n",
        "    elif sentiment_score['compound'] < -0.05:\n",
        "        sentiment_counts['negative'] += 1\n",
        "    else:\n",
        "        sentiment_counts['neutral'] += 1\n",
        "\n",
        "# Freq of tweets for each sentiment category\n",
        "for sentiment, count in sentiment_counts.items():\n",
        "    print(f\"{sentiment.capitalize()} sentiment: {count} tweets\")\n"
      ],
      "metadata": {
        "colab": {
          "base_uri": "https://localhost:8080/"
        },
        "id": "h73asnwd-Cgf",
        "outputId": "9d62552f-a65a-40b5-ff1d-60cf9c9c4e8e"
      },
      "execution_count": null,
      "outputs": [
        {
          "output_type": "stream",
          "name": "stderr",
          "text": [
            "[nltk_data] Downloading package vader_lexicon to /root/nltk_data...\n"
          ]
        },
        {
          "output_type": "stream",
          "name": "stdout",
          "text": [
            "Positive sentiment: 70740 tweets\n",
            "Negative sentiment: 18819 tweets\n",
            "Neutral sentiment: 30996 tweets\n"
          ]
        }
      ]
    },
    {
      "cell_type": "code",
      "source": [
        "import nltk\n",
        "from nltk.sentiment.vader import SentimentIntensityAnalyzer\n",
        "\n",
        "# Download VADER lexicon\n",
        "nltk.download('vader_lexicon')\n",
        "\n",
        "# Initialize the SentimentIntensityAnalyzer\n",
        "sid = SentimentIntensityAnalyzer()\n",
        "\n",
        "# Assuming you already have a DataFrame named `df` with the text data in the \"Contents\" column\n",
        "\n",
        "# Analyze sentiment for each tweet and classify it into positive, negative, or neutral\n",
        "sentiment_counts = {'positive': 0, 'negative': 0, 'neutral': 0}\n",
        "total_tweets = len(df)  # Total number of tweets\n",
        "\n",
        "for index, row in df.iterrows():\n",
        "    content = row['Contents']\n",
        "    sentiment_score = sid.polarity_scores(content)\n",
        "    if sentiment_score['compound'] > 0.05:\n",
        "        sentiment_counts['positive'] += 1\n",
        "    elif sentiment_score['compound'] < -0.05:\n",
        "        sentiment_counts['negative'] += 1\n",
        "    else:\n",
        "        sentiment_counts['neutral'] += 1\n",
        "\n",
        "# Print the frequency and percentage of tweets for each sentiment category\n",
        "for sentiment, count in sentiment_counts.items():\n",
        "    percentage = (count / total_tweets) * 100\n",
        "    print(f\"{sentiment.capitalize()} sentiment: {count} tweets ({percentage:.2f}% of total)\")\n"
      ],
      "metadata": {
        "colab": {
          "base_uri": "https://localhost:8080/"
        },
        "id": "XkKFSR-7EiHB",
        "outputId": "dba4ac72-591e-438a-8d8c-626e6248bc68"
      },
      "execution_count": null,
      "outputs": [
        {
          "output_type": "stream",
          "name": "stderr",
          "text": [
            "[nltk_data] Downloading package vader_lexicon to /root/nltk_data...\n",
            "[nltk_data]   Package vader_lexicon is already up-to-date!\n"
          ]
        },
        {
          "output_type": "stream",
          "name": "stdout",
          "text": [
            "Positive sentiment: 70740 tweets (58.68% of total)\n",
            "Negative sentiment: 18819 tweets (15.61% of total)\n",
            "Neutral sentiment: 30996 tweets (25.71% of total)\n"
          ]
        }
      ]
    },
    {
      "cell_type": "markdown",
      "source": [
        "## Topic modeling - in progress"
      ],
      "metadata": {
        "id": "MQfCAwARq9bd"
      }
    },
    {
      "cell_type": "code",
      "source": [
        "from sklearn.feature_extraction.text import CountVectorizer\n",
        "from sklearn.decomposition import LatentDirichletAllocation\n",
        "\n",
        "# Convert text to lowercase & remove punctuation\n",
        "df['Contents'] = df['Contents'].str.lower()\n",
        "df['Contents'] = df['Contents'].str.replace('[^\\w\\s]', '')\n",
        "\n",
        "# Create a CountVectorizer - convert text data into a matrix of token counts\n",
        "vectorizer = CountVectorizer(max_df=0.95, min_df=2, stop_words='english')\n",
        "X = vectorizer.fit_transform(df['Contents'])\n",
        "\n",
        "# Apply LDA\n",
        "lda = LatentDirichletAllocation(n_components=10, random_state=42)\n",
        "lda.fit(X)\n",
        "\n",
        "# Top 10 words for each topic\n",
        "n_top_words = 10\n",
        "feature_names = vectorizer.get_feature_names_out()\n",
        "for topic_idx, topic in enumerate(lda.components_):\n",
        "    print(f\"Topic {topic_idx}:\")\n",
        "    print(\" \".join([feature_names[i] for i in topic.argsort()[:-n_top_words - 1:-1]]))\n",
        "    print()\n"
      ],
      "metadata": {
        "id": "-m_EOp-StMX_"
      },
      "execution_count": null,
      "outputs": []
    },
    {
      "cell_type": "markdown",
      "source": [
        "## Computaitonal Framing analysis - in progress"
      ],
      "metadata": {
        "id": "IhPf9XdjrCli"
      }
    },
    {
      "cell_type": "code",
      "source": [],
      "metadata": {
        "id": "LdeZqd8HrKM1"
      },
      "execution_count": null,
      "outputs": []
    }
  ]
}